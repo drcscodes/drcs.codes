{
 "cells": [
  {
   "cell_type": "code",
   "execution_count": 4,
   "metadata": {},
   "outputs": [
    {
     "data": {
      "text/html": [
       "<div>\n",
       "<style>\n",
       "    .dataframe thead tr:only-child th {\n",
       "        text-align: right;\n",
       "    }\n",
       "\n",
       "    .dataframe thead th {\n",
       "        text-align: left;\n",
       "    }\n",
       "\n",
       "    .dataframe tbody tr th {\n",
       "        vertical-align: top;\n",
       "    }\n",
       "</style>\n",
       "<table border=\"1\" class=\"dataframe\">\n",
       "  <thead>\n",
       "    <tr style=\"text-align: right;\">\n",
       "      <th></th>\n",
       "      <th>Salary</th>\n",
       "      <th>Title</th>\n",
       "      <th>Lab</th>\n",
       "    </tr>\n",
       "  </thead>\n",
       "  <tbody>\n",
       "    <tr>\n",
       "      <th>0</th>\n",
       "      <td>166924.48</td>\n",
       "      <td>Principal Research Engineer</td>\n",
       "      <td>ATAS</td>\n",
       "    </tr>\n",
       "    <tr>\n",
       "      <th>1</th>\n",
       "      <td>152028.52</td>\n",
       "      <td>Principal Research Engineer</td>\n",
       "      <td>ATAS</td>\n",
       "    </tr>\n",
       "    <tr>\n",
       "      <th>2</th>\n",
       "      <td>147679.02</td>\n",
       "      <td>Principal Research Engineer</td>\n",
       "      <td>ATAS</td>\n",
       "    </tr>\n",
       "    <tr>\n",
       "      <th>3</th>\n",
       "      <td>143053.50</td>\n",
       "      <td>Principal Research Engineer</td>\n",
       "      <td>ATAS</td>\n",
       "    </tr>\n",
       "    <tr>\n",
       "      <th>4</th>\n",
       "      <td>142812.00</td>\n",
       "      <td>Senior Research Engineer</td>\n",
       "      <td>ATAS</td>\n",
       "    </tr>\n",
       "  </tbody>\n",
       "</table>\n",
       "</div>"
      ],
      "text/plain": [
       "      Salary                        Title   Lab\n",
       "0  166924.48  Principal Research Engineer  ATAS\n",
       "1  152028.52  Principal Research Engineer  ATAS\n",
       "2  147679.02  Principal Research Engineer  ATAS\n",
       "3  143053.50  Principal Research Engineer  ATAS\n",
       "4  142812.00     Senior Research Engineer  ATAS"
      ]
     },
     "execution_count": 4,
     "metadata": {},
     "output_type": "execute_result"
    }
   ],
   "source": [
    "import numpy as np\n",
    "import pandas as pd\n",
    "import matplotlib.pyplot as plt\n",
    "gtri = pd.read_csv('gtri-anon-salaries.csv', header=None, names=[\"Salary\", \"Title\", \"Lab\"],\n",
    "                   converters={\"Salary\": lambda s: float(s.replace(\"$\", \"\").replace(\",\", \"\"))})\n",
    "gtri.head()"
   ]
  },
  {
   "cell_type": "code",
   "execution_count": 5,
   "metadata": {},
   "outputs": [
    {
     "data": {
      "text/plain": [
       "count       167.000000\n",
       "mean      80747.553293\n",
       "std       37706.066654\n",
       "min        1175.680000\n",
       "25%       60800.000000\n",
       "50%       77723.210000\n",
       "75%      106252.480000\n",
       "max      199770.000000\n",
       "Name: Salary, dtype: float64"
      ]
     },
     "execution_count": 5,
     "metadata": {},
     "output_type": "execute_result"
    }
   ],
   "source": [
    "elsys = gtri[gtri[\"Lab\"] == \"ELSYS\"]\n",
    "elsys[\"Salary\"].describe()"
   ]
  },
  {
   "cell_type": "code",
   "execution_count": 6,
   "metadata": {},
   "outputs": [
    {
     "data": {
      "text/plain": [
       "count        74.000000\n",
       "mean     100692.061081\n",
       "std       38936.827534\n",
       "min       21666.680000\n",
       "25%       69318.435000\n",
       "50%       94983.970000\n",
       "75%      123615.625000\n",
       "max      203000.040000\n",
       "Name: Salary, dtype: float64"
      ]
     },
     "execution_count": 6,
     "metadata": {},
     "output_type": "execute_result"
    }
   ],
   "source": [
    "stl = gtri[gtri[\"Lab\"] == \"STL\"]\n",
    "stl[\"Salary\"].describe()"
   ]
  },
  {
   "cell_type": "code",
   "execution_count": 7,
   "metadata": {},
   "outputs": [
    {
     "name": "stdout",
     "output_type": "stream",
     "text": [
      "Failed to reject null hypothesis that distribution is not normal.\n",
      "Conclude that distribution of ELSYS salaries is normal.\n"
     ]
    }
   ],
   "source": [
    "from scipy import stats\n",
    "k2_elsys, p_elsys = stats.normaltest(elsys[\"Salary\"])\n",
    "if p_elsys > .05:\n",
    "    print(\"Failed to reject null hypothesis that distribution is not normal.\")\n",
    "    print(\"Conclude that distribution of ELSYS salaries is normal.\")"
   ]
  },
  {
   "cell_type": "code",
   "execution_count": 8,
   "metadata": {},
   "outputs": [
    {
     "name": "stdout",
     "output_type": "stream",
     "text": [
      "Failed to reject null hypothesis that distribution is not normal.\n",
      "Conclude that distribution of STL salaries is normal.\n"
     ]
    }
   ],
   "source": [
    "k2_stl, p_stl = stats.normaltest(stl[\"Salary\"])\n",
    "if p_stl > .05:\n",
    "    print(\"Failed to reject null hypothesis that distribution is not normal.\")\n",
    "    print(\"Conclude that distribution of STL salaries is normal.\")"
   ]
  },
  {
   "cell_type": "code",
   "execution_count": 9,
   "metadata": {},
   "outputs": [
    {
     "name": "stdout",
     "output_type": "stream",
     "text": [
      "Reject null hypotesis that means are equal.\n",
      "Conclude that means are different.\n"
     ]
    },
    {
     "data": {
      "text/plain": [
       "Ttest_indResult(statistic=-3.703539628155363, pvalue=0.00030818504653448014)"
      ]
     },
     "execution_count": 9,
     "metadata": {},
     "output_type": "execute_result"
    }
   ],
   "source": [
    "ttest = stats.ttest_ind(a = elsys[\"Salary\"], b = stl[\"Salary\"], equal_var=False)\n",
    "if ttest.pvalue < .05:\n",
    "    print(\"Reject null hypothesis that means are equal.\")\n",
    "    print(\"Conclude that means are different.\")\n",
    "ttest"
   ]
  }
 ],
 "metadata": {
  "kernelspec": {
   "display_name": "Python 3",
   "language": "python",
   "name": "python3"
  },
  "language_info": {
   "codemirror_mode": {
    "name": "ipython",
    "version": 3
   },
   "file_extension": ".py",
   "mimetype": "text/x-python",
   "name": "python",
   "nbconvert_exporter": "python",
   "pygments_lexer": "ipython3",
   "version": "3.6.1"
  }
 },
 "nbformat": 4,
 "nbformat_minor": 2
}
